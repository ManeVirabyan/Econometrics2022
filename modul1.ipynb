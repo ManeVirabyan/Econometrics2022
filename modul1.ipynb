{
 "cells": [
  {
   "cell_type": "code",
   "execution_count": 2,
   "id": "a17f3f57",
   "metadata": {},
   "outputs": [],
   "source": [
    "#ex.\n",
    "my_dictionary = {\n",
    "    'word': 'Econometrics',\n",
    "    \"sentence\": 'If the implementation is easy to explain, it may be a good idea.',\n",
    "    'big_list': [\"python\", 3, \"anaconda\", 3.6, \"jupyter\", 10, \"lessons\", \"many\", 99],\n",
    "    \"empty_list\": []\n",
    "}\n"
   ]
  },
  {
   "cell_type": "code",
   "execution_count": 3,
   "id": "63ce37c1",
   "metadata": {},
   "outputs": [],
   "source": [
    "#ex.1, 2\n",
    "if not my_dictionary['word'].isupper():\n",
    "    my_dictionary['word'] =\"Applied_\"+ my_dictionary['word'].upper() "
   ]
  },
  {
   "cell_type": "code",
   "execution_count": 4,
   "id": "9cee9c94",
   "metadata": {},
   "outputs": [
    {
     "data": {
      "text/plain": [
       "'Else the implementation is easy to explain, it may be a good idea.'"
      ]
     },
     "execution_count": 4,
     "metadata": {},
     "output_type": "execute_result"
    }
   ],
   "source": [
    "#ex.3\n",
    "my_dictionary['sentence'].replace(\"If\", \"Else\")"
   ]
  },
  {
   "cell_type": "code",
   "execution_count": 5,
   "id": "b9ac3a7f",
   "metadata": {},
   "outputs": [
    {
     "name": "stdout",
     "output_type": "stream",
     "text": [
      "p\n",
      "a\n",
      "j\n",
      "l\n",
      "m\n"
     ]
    }
   ],
   "source": [
    "#ex.4\n",
    "for i in my_dictionary['big_list']:\n",
    "    if type(i) == str:\n",
    "        print(i[0])"
   ]
  },
  {
   "cell_type": "code",
   "execution_count": 8,
   "id": "4d93369f",
   "metadata": {},
   "outputs": [
    {
     "name": "stdout",
     "output_type": "stream",
     "text": [
      "100\n"
     ]
    }
   ],
   "source": [
    "#ex.5\n",
    "sum = 0\n",
    "for i in my_dictionary['big_list']:\n",
    "    if type(i) == int:\n",
    "        sum+= i\n",
    "sum1 = 0\n",
    "my_dictionary['big_list'].remove(my_dictionary['big_list'][-1])\n",
    "my_dictionary['big_list'].append(87)\n",
    "for item in my_dictionary['big_list']:\n",
    "    if type(item) == int:\n",
    "        sum1+= item\n",
    "print(sum1)"
   ]
  },
  {
   "cell_type": "code",
   "execution_count": 15,
   "id": "a3202c52",
   "metadata": {},
   "outputs": [
    {
     "ename": "IndentationError",
     "evalue": "unexpected indent (2290281897.py, line 3)",
     "output_type": "error",
     "traceback": [
      "\u001b[1;36m  Input \u001b[1;32mIn [15]\u001b[1;36m\u001b[0m\n\u001b[1;33m    print(my_dictionary)\u001b[0m\n\u001b[1;37m    ^\u001b[0m\n\u001b[1;31mIndentationError\u001b[0m\u001b[1;31m:\u001b[0m unexpected indent\n"
     ]
    }
   ],
   "source": [
    "#ex.6\n",
    "my_dictionary['big_list'][7] = \"snow\"\n",
    "            print(my_dictionary)\n",
    "        \n",
    "            "
   ]
  },
  {
   "cell_type": "markdown",
   "id": "b8a0fb18",
   "metadata": {},
   "source": [
    "To the empty list add elements using the range function (starting number is 10 - the last number is of your choice) and count prime and odd numbers. Prime numbers are those which are divisible by 2 (2, 4, 6 etc.) and odd numbers are those which can’t be divided by 2 (1,3,5 etc.)."
   ]
  },
  {
   "cell_type": "code",
   "execution_count": 7,
   "id": "da1a6d23",
   "metadata": {},
   "outputs": [
    {
     "name": "stdout",
     "output_type": "stream",
     "text": [
      "41\n",
      "42\n"
     ]
    }
   ],
   "source": [
    "list_2 = [i for i in range(10, 93)]\n",
    "count_odd = 0\n",
    "count_prime = 0\n",
    "for i in list_2:\n",
    "    if i %2 == 0:\n",
    "        count_prime += 1\n",
    "    else:\n",
    "        count_odd += 1\n",
    "print(count_odd)\n",
    "print(count_prime)\n"
   ]
  },
  {
   "cell_type": "code",
   "execution_count": null,
   "id": "369ffc5e",
   "metadata": {},
   "outputs": [],
   "source": []
  }
 ],
 "metadata": {
  "kernelspec": {
   "display_name": "Python 3 (ipykernel)",
   "language": "python",
   "name": "python3"
  },
  "language_info": {
   "codemirror_mode": {
    "name": "ipython",
    "version": 3
   },
   "file_extension": ".py",
   "mimetype": "text/x-python",
   "name": "python",
   "nbconvert_exporter": "python",
   "pygments_lexer": "ipython3",
   "version": "3.8.8"
  }
 },
 "nbformat": 4,
 "nbformat_minor": 5
}
